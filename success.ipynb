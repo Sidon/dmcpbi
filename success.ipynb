{
 "cells": [
  {
   "cell_type": "code",
   "execution_count": 960,
   "metadata": {},
   "outputs": [],
   "source": [
    "###\n",
    "# This code answer a question:\n",
    "# Making a relationship between the number of contacts and campaign success\n",
    "# what are the relevant points to be observed?\n",
    "# By Sidon 2018\n",
    "###"
   ]
  },
  {
   "cell_type": "raw",
   "metadata": {},
   "source": [
    "Null Hypothesis:\n",
    "There is no relationship between the number of contacts and campaign success.\n",
    "H0 = There is no relationship between the two categorical variables - they are indepent.\n",
    "\n",
    "Alternative Hypothesis:\n",
    "There is relationship between the number of contacts and campaign success.\n",
    "H1 = There is a relationship between the two categorical variables - they are not idependent.\n",
    "\n",
    "H0 = proportion of number of contacts = proportion of success\n",
    "h1 = proportion of number of contacts != proportion of success\n",
    "\n",
    "chi-square test of independence:\n",
    "The idea behind the chi-square test of independence, much like the analysis of variance is to measure how far the data are from what is claimed in the null hypothesis. The further the data are from the null hypothesis, the more evidence the data presents against it. "
   ]
  },
  {
   "cell_type": "code",
   "execution_count": 961,
   "metadata": {},
   "outputs": [],
   "source": [
    "import pandas as pd\n",
    "import statsmodels.formula.api as smf\n",
    "import matplotlib.pyplot as plt\n",
    "import seaborn\n",
    "import scipy\n",
    "from tabulate import tabulate, tabulate_formats\n",
    "import prettyprint\n",
    "from utils import Dataset\n",
    "%matplotlib inline "
   ]
  },
  {
   "cell_type": "code",
   "execution_count": 962,
   "metadata": {},
   "outputs": [],
   "source": [
    "ds =  Dataset()\n",
    "data = ds.get_data(['campaign','previous','y'])"
   ]
  },
  {
   "cell_type": "code",
   "execution_count": 963,
   "metadata": {},
   "outputs": [],
   "source": [
    "# Inserir coluna para totalizar os contatos realizados\n",
    "tt_contacts = data.campaign+data['previous'] \n",
    "data.insert(loc=2, column='tt_contacts', value=tt_contacts)"
   ]
  },
  {
   "cell_type": "code",
   "execution_count": 964,
   "metadata": {},
   "outputs": [],
   "source": [
    "data1 = data.copy()"
   ]
  },
  {
   "cell_type": "code",
   "execution_count": 965,
   "metadata": {},
   "outputs": [],
   "source": [
    "# Remove outliers\n",
    "q = data1['tt_contacts'].quantile(0.997)\n",
    "data1 = data1[data1['tt_contacts']<q]\n"
   ]
  },
  {
   "cell_type": "code",
   "execution_count": 966,
   "metadata": {},
   "outputs": [
    {
     "data": {
      "text/html": [
       "<div>\n",
       "<style scoped>\n",
       "    .dataframe tbody tr th:only-of-type {\n",
       "        vertical-align: middle;\n",
       "    }\n",
       "\n",
       "    .dataframe tbody tr th {\n",
       "        vertical-align: top;\n",
       "    }\n",
       "\n",
       "    .dataframe thead th {\n",
       "        text-align: right;\n",
       "    }\n",
       "</style>\n",
       "<table border=\"1\" class=\"dataframe\">\n",
       "  <thead>\n",
       "    <tr style=\"text-align: right;\">\n",
       "      <th></th>\n",
       "      <th>campaign</th>\n",
       "      <th>previous</th>\n",
       "      <th>tt_contacts</th>\n",
       "      <th>y</th>\n",
       "    </tr>\n",
       "  </thead>\n",
       "  <tbody>\n",
       "    <tr>\n",
       "      <th>0</th>\n",
       "      <td>1</td>\n",
       "      <td>0</td>\n",
       "      <td>1</td>\n",
       "      <td>no</td>\n",
       "    </tr>\n",
       "    <tr>\n",
       "      <th>1</th>\n",
       "      <td>1</td>\n",
       "      <td>0</td>\n",
       "      <td>1</td>\n",
       "      <td>no</td>\n",
       "    </tr>\n",
       "    <tr>\n",
       "      <th>2</th>\n",
       "      <td>1</td>\n",
       "      <td>0</td>\n",
       "      <td>1</td>\n",
       "      <td>no</td>\n",
       "    </tr>\n",
       "    <tr>\n",
       "      <th>3</th>\n",
       "      <td>1</td>\n",
       "      <td>0</td>\n",
       "      <td>1</td>\n",
       "      <td>no</td>\n",
       "    </tr>\n",
       "    <tr>\n",
       "      <th>4</th>\n",
       "      <td>1</td>\n",
       "      <td>0</td>\n",
       "      <td>1</td>\n",
       "      <td>no</td>\n",
       "    </tr>\n",
       "    <tr>\n",
       "      <th>...</th>\n",
       "      <td>...</td>\n",
       "      <td>...</td>\n",
       "      <td>...</td>\n",
       "      <td>...</td>\n",
       "    </tr>\n",
       "    <tr>\n",
       "      <th>45206</th>\n",
       "      <td>3</td>\n",
       "      <td>0</td>\n",
       "      <td>3</td>\n",
       "      <td>yes</td>\n",
       "    </tr>\n",
       "    <tr>\n",
       "      <th>45207</th>\n",
       "      <td>2</td>\n",
       "      <td>0</td>\n",
       "      <td>2</td>\n",
       "      <td>yes</td>\n",
       "    </tr>\n",
       "    <tr>\n",
       "      <th>45208</th>\n",
       "      <td>5</td>\n",
       "      <td>3</td>\n",
       "      <td>8</td>\n",
       "      <td>yes</td>\n",
       "    </tr>\n",
       "    <tr>\n",
       "      <th>45209</th>\n",
       "      <td>4</td>\n",
       "      <td>0</td>\n",
       "      <td>4</td>\n",
       "      <td>no</td>\n",
       "    </tr>\n",
       "    <tr>\n",
       "      <th>45210</th>\n",
       "      <td>2</td>\n",
       "      <td>11</td>\n",
       "      <td>13</td>\n",
       "      <td>no</td>\n",
       "    </tr>\n",
       "  </tbody>\n",
       "</table>\n",
       "<p>45064 rows × 4 columns</p>\n",
       "</div>"
      ],
      "text/plain": [
       "       campaign  previous  tt_contacts    y\n",
       "0             1         0            1   no\n",
       "1             1         0            1   no\n",
       "2             1         0            1   no\n",
       "3             1         0            1   no\n",
       "4             1         0            1   no\n",
       "...         ...       ...          ...  ...\n",
       "45206         3         0            3  yes\n",
       "45207         2         0            2  yes\n",
       "45208         5         3            8  yes\n",
       "45209         4         0            4   no\n",
       "45210         2        11           13   no\n",
       "\n",
       "[45064 rows x 4 columns]"
      ]
     },
     "execution_count": 966,
     "metadata": {},
     "output_type": "execute_result"
    }
   ],
   "source": [
    "data1"
   ]
  },
  {
   "cell_type": "code",
   "execution_count": 967,
   "metadata": {},
   "outputs": [],
   "source": [
    "# qs = [0, .8, .9, 1]\n",
    "# qs = [0,.8, .95, .96, .97,.98,.99,.995,.997,.998,.999,.9999, 1]\n",
    "# data1.tt_contacts = pd.qcut(data['tt_contacts'],qs)\n",
    "# data1.tt_contacts = pd.cut(data['tt_contacts'],[0,5,10,15,20,25,30,35,40,45,50,55,60,277])\n",
    "# data1.tt_contacts = pd.cut(data['tt_contacts'],[5,6,7,8])\n",
    "\n"
   ]
  },
  {
   "cell_type": "code",
   "execution_count": 968,
   "metadata": {},
   "outputs": [],
   "source": [
    "# Convert categories labels to string\n",
    "# data1.tt_contacts.cat.categories = [c.__str__() for c in data1.tt_contacts.cat.categories]"
   ]
  },
  {
   "cell_type": "code",
   "execution_count": 969,
   "metadata": {},
   "outputs": [],
   "source": [
    "totals = totals = pd.DataFrame(data1.tt_contacts)\n",
    "totals['y'] = totals.index"
   ]
  },
  {
   "cell_type": "code",
   "execution_count": 970,
   "metadata": {},
   "outputs": [],
   "source": [
    "# data1.tt_contacts.value_counts"
   ]
  },
  {
   "cell_type": "raw",
   "metadata": {},
   "source": [
    "plt1 = seaborn.factorplot(x=\"tt_contacts\", y=\"y\", data=totals, kind=\"bar\", ci=None)\n",
    "plt.xlabel('contatos')\n",
    "plt.ylabel('y')\n",
    "plt1.show()"
   ]
  },
  {
   "cell_type": "code",
   "execution_count": 971,
   "metadata": {},
   "outputs": [],
   "source": [
    "# contingency table of observed counts\n",
    "ct1 = pd.crosstab(data1.y, data1.tt_contacts)\n",
    "ct2 = pd.crosstab(data1.tt_contacts, data1.y)\n"
   ]
  },
  {
   "cell_type": "code",
   "execution_count": 972,
   "metadata": {},
   "outputs": [
    {
     "data": {
      "text/plain": [
       "<matplotlib.axes._subplots.AxesSubplot at 0x7f19d92cc898>"
      ]
     },
     "execution_count": 972,
     "metadata": {},
     "output_type": "execute_result"
    },
    {
     "data": {
      "image/png": "[encoded data removed]",
      "text/plain": [
       "<Figure size 432x288 with 1 Axes>"
      ]
     },
     "metadata": {
      "needs_background": "light"
     },
     "output_type": "display_data"
    }
   ],
   "source": [
    "ct1.plot.bar()"
   ]
  },
  {
   "cell_type": "code",
   "execution_count": 973,
   "metadata": {},
   "outputs": [
    {
     "data": {
      "text/plain": [
       "<matplotlib.axes._subplots.AxesSubplot at 0x7f19d92cc1d0>"
      ]
     },
     "execution_count": 973,
     "metadata": {},
     "output_type": "execute_result"
    },
    {
     "data": {
      "image/png": "[encoded data removed]",
      "text/plain": [
       "<Figure size 432x288 with 1 Axes>"
      ]
     },
     "metadata": {
      "needs_background": "light"
     },
     "output_type": "display_data"
    }
   ],
   "source": [
    "ct2.plot.bar()"
   ]
  },
  {
   "cell_type": "code",
   "execution_count": 974,
   "metadata": {},
   "outputs": [],
   "source": [
    "# column percentages\n",
    "colsum=ct1.sum(axis=0)\n",
    "colpct=ct1/colsum\n",
    "# print(tabulate(colpct, tablefmt='fancy_grid', headers='keys', numalign=\"center\"))\n",
    "# print(colpct.loc['yes'].sort_values(ascending=False))\n"
   ]
  },
  {
   "cell_type": "code",
   "execution_count": 975,
   "metadata": {},
   "outputs": [
    {
     "name": "stdout",
     "output_type": "stream",
     "text": [
      "╒═══════════════╤══════════╤═══════════╕\n",
      "│  tt_contacts  │    no    │    yes    │\n",
      "╞═══════════════╪══════════╪═══════════╡\n",
      "│       1       │ 0.887427 │ 0.112573  │\n",
      "├───────────────┼──────────┼───────────┤\n",
      "│       2       │ 0.893963 │ 0.106037  │\n",
      "├───────────────┼──────────┼───────────┤\n",
      "│       3       │ 0.875174 │ 0.124826  │\n",
      "├───────────────┼──────────┼───────────┤\n",
      "│       4       │ 0.871238 │ 0.128762  │\n",
      "├───────────────┼──────────┼───────────┤\n",
      "│       5       │ 0.863564 │ 0.136436  │\n",
      "├───────────────┼──────────┼───────────┤\n",
      "│       6       │ 0.86641  │  0.13359  │\n",
      "├───────────────┼──────────┼───────────┤\n",
      "│       7       │ 0.867152 │ 0.132848  │\n",
      "├───────────────┼──────────┼───────────┤\n",
      "│       8       │  0.8753  │  0.1247   │\n",
      "├───────────────┼──────────┼───────────┤\n",
      "│       9       │ 0.842491 │ 0.157509  │\n",
      "├───────────────┼──────────┼───────────┤\n",
      "│      10       │ 0.869955 │ 0.130045  │\n",
      "├───────────────┼──────────┼───────────┤\n",
      "│      11       │ 0.853583 │ 0.146417  │\n",
      "├───────────────┼──────────┼───────────┤\n",
      "│      12       │ 0.88664  │  0.11336  │\n",
      "├───────────────┼──────────┼───────────┤\n",
      "│      13       │ 0.894737 │ 0.105263  │\n",
      "├───────────────┼──────────┼───────────┤\n",
      "│      14       │ 0.889655 │ 0.110345  │\n",
      "├───────────────┼──────────┼───────────┤\n",
      "│      15       │ 0.88806  │  0.11194  │\n",
      "├───────────────┼──────────┼───────────┤\n",
      "│      16       │ 0.930435 │ 0.0695652 │\n",
      "├───────────────┼──────────┼───────────┤\n",
      "│      17       │ 0.938144 │ 0.0618557 │\n",
      "├───────────────┼──────────┼───────────┤\n",
      "│      18       │ 0.961039 │ 0.038961  │\n",
      "├───────────────┼──────────┼───────────┤\n",
      "│      19       │ 0.983333 │ 0.0166667 │\n",
      "├───────────────┼──────────┼───────────┤\n",
      "│      20       │ 0.951613 │ 0.0483871 │\n",
      "├───────────────┼──────────┼───────────┤\n",
      "│      21       │ 0.911111 │ 0.0888889 │\n",
      "├───────────────┼──────────┼───────────┤\n",
      "│      22       │ 0.96875  │  0.03125  │\n",
      "├───────────────┼──────────┼───────────┤\n",
      "│      23       │ 0.962963 │ 0.037037  │\n",
      "├───────────────┼──────────┼───────────┤\n",
      "│      24       │ 0.967742 │ 0.0322581 │\n",
      "├───────────────┼──────────┼───────────┤\n",
      "│      25       │ 0.928571 │ 0.0714286 │\n",
      "├───────────────┼──────────┼───────────┤\n",
      "│      26       │    1     │     0     │\n",
      "╘═══════════════╧══════════╧═══════════╛\n"
     ]
    }
   ],
   "source": [
    "colpct_t = colpct.T\n",
    "# colpct_t = colpct_t.sort_values()\n",
    "print(tabulate(colpct_t, tablefmt='fancy_grid', headers='keys', numalign=\"center\"))"
   ]
  },
  {
   "cell_type": "code",
   "execution_count": 976,
   "metadata": {},
   "outputs": [
    {
     "name": "stdout",
     "output_type": "stream",
     "text": [
      "╒═════════╤════════════╕\n",
      "│  Range  │  Contacts  │\n",
      "╞═════════╪════════════╡\n",
      "│    1    │   13529    │\n",
      "├─────────┼────────────┤\n",
      "│    2    │   11760    │\n",
      "├─────────┼────────────┤\n",
      "│    3    │    6449    │\n",
      "├─────────┼────────────┤\n",
      "│    4    │    4419    │\n",
      "├─────────┼────────────┤\n",
      "│    5    │    2514    │\n",
      "├─────────┼────────────┤\n",
      "│    6    │    1819    │\n",
      "├─────────┼────────────┤\n",
      "│    7    │    1099    │\n",
      "├─────────┼────────────┤\n",
      "│    8    │    834     │\n",
      "├─────────┼────────────┤\n",
      "│    9    │    546     │\n",
      "├─────────┼────────────┤\n",
      "│   10    │    446     │\n",
      "├─────────┼────────────┤\n",
      "│   11    │    321     │\n",
      "├─────────┼────────────┤\n",
      "│   12    │    247     │\n",
      "├─────────┼────────────┤\n",
      "│   13    │    209     │\n",
      "├─────────┼────────────┤\n",
      "│   14    │    145     │\n",
      "├─────────┼────────────┤\n",
      "│   15    │    134     │\n",
      "├─────────┼────────────┤\n",
      "│   16    │    115     │\n",
      "├─────────┼────────────┤\n",
      "│   17    │     97     │\n",
      "├─────────┼────────────┤\n",
      "│   18    │     77     │\n",
      "├─────────┼────────────┤\n",
      "│   19    │     60     │\n",
      "├─────────┼────────────┤\n",
      "│   20    │     62     │\n",
      "├─────────┼────────────┤\n",
      "│   21    │     45     │\n",
      "├─────────┼────────────┤\n",
      "│   22    │     32     │\n",
      "├─────────┼────────────┤\n",
      "│   23    │     27     │\n",
      "├─────────┼────────────┤\n",
      "│   24    │     31     │\n",
      "├─────────┼────────────┤\n",
      "│   25    │     28     │\n",
      "├─────────┼────────────┤\n",
      "│   26    │     19     │\n",
      "╘═════════╧════════════╛\n"
     ]
    }
   ],
   "source": [
    "#colsum\n",
    "print(tabulate(pd.DataFrame(colsum), tablefmt='fancy_grid', headers=['Range','Contacts'] , numalign=\"center\"))"
   ]
  },
  {
   "cell_type": "code",
   "execution_count": 977,
   "metadata": {},
   "outputs": [
    {
     "name": "stdout",
     "output_type": "stream",
     "text": [
      "╒══════════════╤═════════════╤═══════╤═══════════════════════════════════════════════════════════════╕\n",
      "│  chi-square  │   p-value   │  dof  │ expected                                                      │\n",
      "╞══════════════╪═════════════╪═══════╪═══════════════════════════════════════════════════════════════╡\n",
      "│   92.7197    │ 1.02469e-09 │  25   │ [[1.19432513e+04 1.03815977e+04 5.69310576e+03 3.90104425e+03 │\n",
      "│              │             │       │   2.21933135e+03 1.60579305e+03 9.70185026e+02 7.36245961e+02 │\n",
      "│              │             │       │   4.82002752e+02 3.93723859e+02 2.83375244e+02 2.18048864e+02 │\n",
      "│              │             │       │   1.84502885e+02 1.28004394e+02 1.18293716e+02 1.01520726e+02 │\n",
      "│              │             │       │   8.56305255e+01 6.79747470e+01 5.29673353e+01 5.47329132e+01 │\n",
      "│              │             │       │   3.97255015e+01 2.82492455e+01 2.38353009e+01 2.73664566e+01 │\n",
      "│              │             │       │   2.47180898e+01 1.67729895e+01]                              │\n",
      "│              │             │       │  [1.58574867e+03 1.37840227e+03 7.55894239e+02 5.17955752e+02 │\n",
      "│              │             │       │   2.94668649e+02 2.13206950e+02 1.28814974e+02 9.77540387e+01 │\n",
      "│              │             │       │   6.39972484e+01 5.22761406e+01 3.76247559e+01 2.89511362e+01 │\n",
      "│              │             │       │   2.44971152e+01 1.69956062e+01 1.57062844e+01 1.34792739e+01 │\n",
      "│              │             │       │   1.13694745e+01 9.02525297e+00 7.03266465e+00 7.26708681e+00 │\n",
      "│              │             │       │   5.27449849e+00 3.75075448e+00 3.16469909e+00 3.63354340e+00 │\n",
      "│              │             │       │   3.28191017e+00 2.22701047e+00]]                             │\n",
      "╘══════════════╧═════════════╧═══════╧═══════════════════════════════════════════════════════════════╛\n"
     ]
    }
   ],
   "source": [
    "# G-test\n",
    "chi2 = {}\n",
    "cs1= scipy.stats.chi2_contingency(ct1, lambda_=\"log-likelihood\")\n",
    "chi2['chi-square'] = [cs1[0]]\n",
    "chi2['p-value'] = [cs1[1]]\n",
    "chi2['dof'] = [cs1[2]]\n",
    "chi2['expected'] = [cs1[3]]\n",
    "print (tabulate(chi2, tablefmt='fancy_grid', headers='keys', numalign=\"center\"))\n"
   ]
  },
  {
   "cell_type": "code",
   "execution_count": 978,
   "metadata": {},
   "outputs": [
    {
     "data": {
      "text/html": [
       "<div>\n",
       "<style scoped>\n",
       "    .dataframe tbody tr th:only-of-type {\n",
       "        vertical-align: middle;\n",
       "    }\n",
       "\n",
       "    .dataframe tbody tr th {\n",
       "        vertical-align: top;\n",
       "    }\n",
       "\n",
       "    .dataframe thead th {\n",
       "        text-align: right;\n",
       "    }\n",
       "</style>\n",
       "<table border=\"1\" class=\"dataframe\">\n",
       "  <thead>\n",
       "    <tr style=\"text-align: right;\">\n",
       "      <th>tt_contacts</th>\n",
       "      <th>1</th>\n",
       "      <th>2</th>\n",
       "      <th>3</th>\n",
       "      <th>4</th>\n",
       "      <th>5</th>\n",
       "      <th>...</th>\n",
       "      <th>22</th>\n",
       "      <th>23</th>\n",
       "      <th>24</th>\n",
       "      <th>25</th>\n",
       "      <th>26</th>\n",
       "    </tr>\n",
       "    <tr>\n",
       "      <th>y</th>\n",
       "      <th></th>\n",
       "      <th></th>\n",
       "      <th></th>\n",
       "      <th></th>\n",
       "      <th></th>\n",
       "      <th></th>\n",
       "      <th></th>\n",
       "      <th></th>\n",
       "      <th></th>\n",
       "      <th></th>\n",
       "      <th></th>\n",
       "    </tr>\n",
       "  </thead>\n",
       "  <tbody>\n",
       "    <tr>\n",
       "      <th>no</th>\n",
       "      <td>12006</td>\n",
       "      <td>10513</td>\n",
       "      <td>5644</td>\n",
       "      <td>3850</td>\n",
       "      <td>2171</td>\n",
       "      <td>...</td>\n",
       "      <td>31</td>\n",
       "      <td>26</td>\n",
       "      <td>30</td>\n",
       "      <td>26</td>\n",
       "      <td>19</td>\n",
       "    </tr>\n",
       "    <tr>\n",
       "      <th>yes</th>\n",
       "      <td>1523</td>\n",
       "      <td>1247</td>\n",
       "      <td>805</td>\n",
       "      <td>569</td>\n",
       "      <td>343</td>\n",
       "      <td>...</td>\n",
       "      <td>1</td>\n",
       "      <td>1</td>\n",
       "      <td>1</td>\n",
       "      <td>2</td>\n",
       "      <td>0</td>\n",
       "    </tr>\n",
       "  </tbody>\n",
       "</table>\n",
       "<p>2 rows × 26 columns</p>\n",
       "</div>"
      ],
      "text/plain": [
       "tt_contacts     1      2     3     4     5  ...  22  23  24  25  26\n",
       "y                                           ...                    \n",
       "no           12006  10513  5644  3850  2171 ...  31  26  30  26  19\n",
       "yes           1523   1247   805   569   343 ...   1   1   1   2   0\n",
       "\n",
       "[2 rows x 26 columns]"
      ]
     },
     "execution_count": 978,
     "metadata": {},
     "output_type": "execute_result"
    }
   ],
   "source": [
    "ct1"
   ]
  },
  {
   "cell_type": "raw",
   "metadata": {},
   "source": [
    "for dof=3 and significance value = 0,05 the critic chi-square is 7,815  \n",
    "In this case, the chi-square calculated (33.675) indicate that is enough different from the null hypothesis for us\n",
    "to reject it."
   ]
  },
  {
   "cell_type": "code",
   "execution_count": 979,
   "metadata": {},
   "outputs": [
    {
     "name": "stdout",
     "output_type": "stream",
     "text": [
      "y                  no       yes\n",
      "tt_contacts                    \n",
      "1            0.887427  0.112573\n",
      "2            0.893963  0.106037\n",
      "3            0.875174  0.124826\n",
      "4            0.871238  0.128762\n",
      "5            0.863564  0.136436\n",
      "...               ...       ...\n",
      "22           0.968750  0.031250\n",
      "23           0.962963  0.037037\n",
      "24           0.967742  0.032258\n",
      "25           0.928571  0.071429\n",
      "26           1.000000  0.000000\n",
      "\n",
      "[26 rows x 2 columns]\n"
     ]
    }
   ],
   "source": [
    "print(colpct.T)"
   ]
  },
  {
   "cell_type": "code",
   "execution_count": null,
   "metadata": {},
   "outputs": [],
   "source": []
  }
 ],
 "metadata": {
  "kernelspec": {
   "display_name": "Python 3",
   "language": "python",
   "name": "python3"
  },
  "language_info": {
   "codemirror_mode": {
    "name": "ipython",
    "version": 3
   },
   "file_extension": ".py",
   "mimetype": "text/x-python",
   "name": "python",
   "nbconvert_exporter": "python",
   "pygments_lexer": "ipython3",
   "version": "3.6.6"
  }
 },
 "nbformat": 4,
 "nbformat_minor": 2
}
