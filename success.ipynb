{
 "cells": [
  {
   "cell_type": "code",
   "execution_count": 474,
   "metadata": {},
   "outputs": [],
   "source": [
    "###\n",
    "# This code answer a question:\n",
    "# Making a relationship between the number of contacts and campaign success\n",
    "# what are the relevant points to be observed?\n",
    "# By Sidon 2018\n",
    "###"
   ]
  },
  {
   "cell_type": "raw",
   "metadata": {},
   "source": [
    "Null Hypothesis:\n",
    "There is no relationship between the number of contacts and campaign success.\n",
    "H0 = There is no relationship between the two categorical variables - they are indepent.\n",
    "\n",
    "Alternative Hypothesis:\n",
    "There is relationship between the number of contacts and campaign success.\n",
    "H1 = There is a relationship between the two categorical variables - they are not idependent.\n",
    "\n",
    "H0 = proportion of number of contacts = proportion of success\n",
    "h1 = proportion of number of contacts != proportion of success\n",
    "\n",
    "chi-square test of independence:\n",
    "The idea behind the chi-square test of independence, much like the analysis of variance is to measure how far the data are from what is claimed in the null hypothesis. The further the data are from the null hypothesis, the more evidence the data presents against it. "
   ]
  },
  {
   "cell_type": "code",
   "execution_count": 475,
   "metadata": {},
   "outputs": [],
   "source": [
    "import pandas as pd\n",
    "import statsmodels.formula.api as smf\n",
    "import matplotlib.pyplot as plt\n",
    "import seaborn\n",
    "import scipy\n",
    "from tabulate import tabulate, tabulate_formats\n",
    "import prettyprint\n",
    "from utils import Dataset\n",
    "%matplotlib inline "
   ]
  },
  {
   "cell_type": "code",
   "execution_count": 476,
   "metadata": {},
   "outputs": [],
   "source": [
    "ds =  Dataset()\n",
    "data = ds.get_data(['campaign','previous','y'])"
   ]
  },
  {
   "cell_type": "code",
   "execution_count": 477,
   "metadata": {},
   "outputs": [],
   "source": [
    "# Inserir coluna para totalizar os contatos realizados\n",
    "tt_contacts = data.campaign+data['previous'] \n",
    "data.insert(loc=2, column='tt_contacts', value=tt_contacts)"
   ]
  },
  {
   "cell_type": "code",
   "execution_count": 478,
   "metadata": {},
   "outputs": [],
   "source": [
    "data1 = data.copy()"
   ]
  },
  {
   "cell_type": "code",
   "execution_count": 479,
   "metadata": {},
   "outputs": [],
   "source": [
    "qs = [.8, .99, .999, 1]\n",
    "#qs = [0,.8, 1]\n",
    "data1.tt_contacts = pd.qcut(data['tt_contacts'],qs)"
   ]
  },
  {
   "cell_type": "code",
   "execution_count": 480,
   "metadata": {},
   "outputs": [],
   "source": [
    "# Convert categories labels to string\n",
    "data1.tt_contacts.cat.categories = [c.__str__() for c in data1.tt_contacts.cat.categories]"
   ]
  },
  {
   "cell_type": "code",
   "execution_count": 481,
   "metadata": {},
   "outputs": [],
   "source": [
    "totals = totals = pd.DataFrame(data1.tt_contacts)\n",
    "totals['y'] = totals.index"
   ]
  },
  {
   "cell_type": "raw",
   "metadata": {},
   "source": [
    "plt1 = seaborn.factorplot(x=\"tt_contacts\", y=\"y\", data=totals, kind=\"bar\", ci=None)\n",
    "plt.xlabel('contatos')\n",
    "plt.ylabel('y')\n",
    "plt1.show()"
   ]
  },
  {
   "cell_type": "code",
   "execution_count": 482,
   "metadata": {},
   "outputs": [],
   "source": [
    "# contingency table of observed counts\n",
    "ct1 = pd.crosstab(data1.y, data1.tt_contacts)"
   ]
  },
  {
   "cell_type": "code",
   "execution_count": 483,
   "metadata": {},
   "outputs": [
    {
     "data": {
      "text/plain": [
       "<matplotlib.axes._subplots.AxesSubplot at 0x7f19db30ffd0>"
      ]
     },
     "execution_count": 483,
     "metadata": {},
     "output_type": "execute_result"
    },
    {
     "data": {
      "image/png": "[encoded data removed]",
      "text/plain": [
       "<Figure size 432x288 with 1 Axes>"
      ]
     },
     "metadata": {
      "needs_background": "light"
     },
     "output_type": "display_data"
    }
   ],
   "source": [
    "ct1.plot.bar()"
   ]
  },
  {
   "cell_type": "code",
   "execution_count": 484,
   "metadata": {},
   "outputs": [
    {
     "name": "stdout",
     "output_type": "stream",
     "text": [
      "╒═════╤═════════════════╤════════════════╤═════════════════╕\n",
      "│ y   │  (4.999, 18.0]  │  (18.0, 34.0]  │  (34.0, 277.0]  │\n",
      "╞═════╪═════════════════╪════════════════╪═════════════════╡\n",
      "│ no  │    0.869232     │    0.955882    │    0.953488     │\n",
      "├─────┼─────────────────┼────────────────┼─────────────────┤\n",
      "│ yes │    0.130768     │   0.0441176    │    0.0465116    │\n",
      "╘═════╧═════════════════╧════════════════╧═════════════════╛\n"
     ]
    }
   ],
   "source": [
    "# column percentages\n",
    "colsum=ct1.sum(axis=0)\n",
    "colpct=ct1/colsum\n",
    "print(tabulate(colpct, tablefmt='fancy_grid', headers='keys', numalign=\"center\"))"
   ]
  },
  {
   "cell_type": "code",
   "execution_count": 485,
   "metadata": {},
   "outputs": [
    {
     "name": "stdout",
     "output_type": "stream",
     "text": [
      "╒═══════════════╤════════════╕\n",
      "│ Range         │  Contacts  │\n",
      "╞═══════════════╪════════════╡\n",
      "│ (4.999, 18.0] │    8603    │\n",
      "├───────────────┼────────────┤\n",
      "│ (18.0, 34.0]  │    408     │\n",
      "├───────────────┼────────────┤\n",
      "│ (34.0, 277.0] │     43     │\n",
      "╘═══════════════╧════════════╛\n"
     ]
    }
   ],
   "source": [
    "#colsum\n",
    "print(tabulate(pd.DataFrame(colsum), tablefmt='fancy_grid', headers=['Range','Contacts'] , numalign=\"center\"))"
   ]
  },
  {
   "cell_type": "code",
   "execution_count": 486,
   "metadata": {},
   "outputs": [
    {
     "name": "stdout",
     "output_type": "stream",
     "text": [
      "╒══════════════╤═════════════╤═══════╤══════════════════════════════════════════════════╕\n",
      "│  chi-square  │   p-value   │  dof  │ expected                                         │\n",
      "╞══════════════╪═════════════╪═══════╪══════════════════════════════════════════════════╡\n",
      "│   36.9646    │ 9.40239e-09 │   2   │ [[7.51503501e+03 3.56402916e+02 3.75620720e+01]  │\n",
      "│              │             │       │  [1.08796499e+03 5.15970842e+01 5.43792799e+00]] │\n",
      "╘══════════════╧═════════════╧═══════╧══════════════════════════════════════════════════╛\n"
     ]
    }
   ],
   "source": [
    "# G-test\n",
    "chi2 = {}\n",
    "cs1= scipy.stats.chi2_contingency(ct1, lambda_=\"log-likelihood\")\n",
    "chi2['chi-square'] = [cs1[0]]\n",
    "chi2['p-value'] = [cs1[1]]\n",
    "chi2['dof'] = [cs1[2]]\n",
    "chi2['expected'] = [cs1[3]]\n",
    "print (tabulate(chi2, tablefmt='fancy_grid', headers='keys', numalign=\"center\"))\n"
   ]
  },
  {
   "cell_type": "raw",
   "metadata": {},
   "source": [
    "for dof=3 and significance value = 0,05 the critic chi-square is 7,815  \n",
    "In this case, the chi-square calculated (33.675) indicate that is enough different from the null hypothesis for us\n",
    "to reject it."
   ]
  },
  {
   "cell_type": "code",
   "execution_count": null,
   "metadata": {},
   "outputs": [],
   "source": []
  }
 ],
 "metadata": {
  "kernelspec": {
   "display_name": "Python 3",
   "language": "python",
   "name": "python3"
  },
  "language_info": {
   "codemirror_mode": {
    "name": "ipython",
    "version": 3
   },
   "file_extension": ".py",
   "mimetype": "text/x-python",
   "name": "python",
   "nbconvert_exporter": "python",
   "pygments_lexer": "ipython3",
   "version": "3.6.6"
  }
 },
 "nbformat": 4,
 "nbformat_minor": 2
}
