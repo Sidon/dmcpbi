{
 "cells": [
  {
   "cell_type": "code",
   "execution_count": 1,
   "metadata": {},
   "outputs": [],
   "source": [
    "###\n",
    "# This code answer a question:\n",
    "# Making a relationship between the number of contacts and campaign success\n",
    "# what are the relevant points to be observed?\n",
    "# By Sidon 2018\n",
    "###"
   ]
  },
  {
   "cell_type": "code",
   "execution_count": 2,
   "metadata": {},
   "outputs": [],
   "source": [
    "import pandas as pd\n",
    "from matplotlib import pyplot as plt\n",
    "from scipy import stats\n",
    "from tabulate import tabulate, tabulate_formats\n",
    "from utils import Dataset\n",
    "from collections import OrderedDict\n",
    "%matplotlib inline "
   ]
  },
  {
   "cell_type": "code",
   "execution_count": 32,
   "metadata": {},
   "outputs": [],
   "source": [
    "ds =  Dataset()\n",
    "data = ds.get_data(['age', 'job', 'marital', 'education', 'balance','housing', 'y'])"
   ]
  },
  {
   "cell_type": "code",
   "execution_count": 33,
   "metadata": {},
   "outputs": [],
   "source": [
    "# Copy for conveniency\n",
    "data1 = data[data.housing=='yes']"
   ]
  },
  {
   "cell_type": "code",
   "execution_count": 34,
   "metadata": {},
   "outputs": [
    {
     "data": {
      "text/html": [
       "<div>\n",
       "<style scoped>\n",
       "    .dataframe tbody tr th:only-of-type {\n",
       "        vertical-align: middle;\n",
       "    }\n",
       "\n",
       "    .dataframe tbody tr th {\n",
       "        vertical-align: top;\n",
       "    }\n",
       "\n",
       "    .dataframe thead th {\n",
       "        text-align: right;\n",
       "    }\n",
       "</style>\n",
       "<table border=\"1\" class=\"dataframe\">\n",
       "  <thead>\n",
       "    <tr style=\"text-align: right;\">\n",
       "      <th></th>\n",
       "      <th>age</th>\n",
       "      <th>job</th>\n",
       "      <th>marital</th>\n",
       "      <th>education</th>\n",
       "      <th>balance</th>\n",
       "      <th>housing</th>\n",
       "      <th>y</th>\n",
       "    </tr>\n",
       "  </thead>\n",
       "  <tbody>\n",
       "    <tr>\n",
       "      <th>0</th>\n",
       "      <td>58</td>\n",
       "      <td>management</td>\n",
       "      <td>married</td>\n",
       "      <td>tertiary</td>\n",
       "      <td>2143</td>\n",
       "      <td>yes</td>\n",
       "      <td>no</td>\n",
       "    </tr>\n",
       "    <tr>\n",
       "      <th>1</th>\n",
       "      <td>44</td>\n",
       "      <td>technician</td>\n",
       "      <td>single</td>\n",
       "      <td>secondary</td>\n",
       "      <td>29</td>\n",
       "      <td>yes</td>\n",
       "      <td>no</td>\n",
       "    </tr>\n",
       "    <tr>\n",
       "      <th>2</th>\n",
       "      <td>33</td>\n",
       "      <td>entrepreneur</td>\n",
       "      <td>married</td>\n",
       "      <td>secondary</td>\n",
       "      <td>2</td>\n",
       "      <td>yes</td>\n",
       "      <td>no</td>\n",
       "    </tr>\n",
       "    <tr>\n",
       "      <th>3</th>\n",
       "      <td>47</td>\n",
       "      <td>blue-collar</td>\n",
       "      <td>married</td>\n",
       "      <td>unknown</td>\n",
       "      <td>1506</td>\n",
       "      <td>yes</td>\n",
       "      <td>no</td>\n",
       "    </tr>\n",
       "    <tr>\n",
       "      <th>5</th>\n",
       "      <td>35</td>\n",
       "      <td>management</td>\n",
       "      <td>married</td>\n",
       "      <td>tertiary</td>\n",
       "      <td>231</td>\n",
       "      <td>yes</td>\n",
       "      <td>no</td>\n",
       "    </tr>\n",
       "    <tr>\n",
       "      <th>...</th>\n",
       "      <td>...</td>\n",
       "      <td>...</td>\n",
       "      <td>...</td>\n",
       "      <td>...</td>\n",
       "      <td>...</td>\n",
       "      <td>...</td>\n",
       "      <td>...</td>\n",
       "    </tr>\n",
       "    <tr>\n",
       "      <th>45191</th>\n",
       "      <td>75</td>\n",
       "      <td>retired</td>\n",
       "      <td>divorced</td>\n",
       "      <td>tertiary</td>\n",
       "      <td>3810</td>\n",
       "      <td>yes</td>\n",
       "      <td>yes</td>\n",
       "    </tr>\n",
       "    <tr>\n",
       "      <th>45194</th>\n",
       "      <td>59</td>\n",
       "      <td>management</td>\n",
       "      <td>married</td>\n",
       "      <td>tertiary</td>\n",
       "      <td>138</td>\n",
       "      <td>yes</td>\n",
       "      <td>no</td>\n",
       "    </tr>\n",
       "    <tr>\n",
       "      <th>45197</th>\n",
       "      <td>36</td>\n",
       "      <td>management</td>\n",
       "      <td>single</td>\n",
       "      <td>secondary</td>\n",
       "      <td>1511</td>\n",
       "      <td>yes</td>\n",
       "      <td>yes</td>\n",
       "    </tr>\n",
       "    <tr>\n",
       "      <th>45199</th>\n",
       "      <td>34</td>\n",
       "      <td>blue-collar</td>\n",
       "      <td>single</td>\n",
       "      <td>secondary</td>\n",
       "      <td>1475</td>\n",
       "      <td>yes</td>\n",
       "      <td>no</td>\n",
       "    </tr>\n",
       "    <tr>\n",
       "      <th>45200</th>\n",
       "      <td>38</td>\n",
       "      <td>technician</td>\n",
       "      <td>married</td>\n",
       "      <td>secondary</td>\n",
       "      <td>557</td>\n",
       "      <td>yes</td>\n",
       "      <td>yes</td>\n",
       "    </tr>\n",
       "  </tbody>\n",
       "</table>\n",
       "<p>25130 rows × 7 columns</p>\n",
       "</div>"
      ],
      "text/plain": [
       "       age           job   marital  education  balance housing    y\n",
       "0       58    management   married   tertiary     2143     yes   no\n",
       "1       44    technician    single  secondary       29     yes   no\n",
       "2       33  entrepreneur   married  secondary        2     yes   no\n",
       "3       47   blue-collar   married    unknown     1506     yes   no\n",
       "5       35    management   married   tertiary      231     yes   no\n",
       "...    ...           ...       ...        ...      ...     ...  ...\n",
       "45191   75       retired  divorced   tertiary     3810     yes  yes\n",
       "45194   59    management   married   tertiary      138     yes   no\n",
       "45197   36    management    single  secondary     1511     yes  yes\n",
       "45199   34   blue-collar    single  secondary     1475     yes   no\n",
       "45200   38    technician   married  secondary      557     yes  yes\n",
       "\n",
       "[25130 rows x 7 columns]"
      ]
     },
     "execution_count": 34,
     "metadata": {},
     "output_type": "execute_result"
    }
   ],
   "source": [
    "data1"
   ]
  },
  {
   "cell_type": "code",
   "execution_count": 30,
   "metadata": {},
   "outputs": [
    {
     "name": "stdout",
     "output_type": "stream",
     "text": [
      "╒════════╤═════════════╕\n",
      "│        │ job         │\n",
      "╞════════╪═════════════╡\n",
      "│ count  │ 25130       │\n",
      "├────────┼─────────────┤\n",
      "│ unique │ 12          │\n",
      "├────────┼─────────────┤\n",
      "│ top    │ blue-collar │\n",
      "├────────┼─────────────┤\n",
      "│ freq   │ 7048        │\n",
      "╘════════╧═════════════╛\n"
     ]
    }
   ],
   "source": [
    "print( tabulate(pd.DataFrame(data1.job.describe()), tablefmt='fancy_grid', headers='keys', numalign=\"decimal\"))"
   ]
  },
  {
   "cell_type": "code",
   "execution_count": 26,
   "metadata": {},
   "outputs": [
    {
     "name": "stdout",
     "output_type": "stream",
     "text": [
      "╒═══════╤═════════════╕\n",
      "│       │         age │\n",
      "╞═══════╪═════════════╡\n",
      "│ count │ 25130       │\n",
      "├───────┼─────────────┤\n",
      "│ mean  │    39.1753  │\n",
      "├───────┼─────────────┤\n",
      "│ std   │     8.92681 │\n",
      "├───────┼─────────────┤\n",
      "│ min   │    20       │\n",
      "├───────┼─────────────┤\n",
      "│ 25%   │    32       │\n",
      "├───────┼─────────────┤\n",
      "│ 50%   │    38       │\n",
      "├───────┼─────────────┤\n",
      "│ 75%   │    45       │\n",
      "├───────┼─────────────┤\n",
      "│ max   │    78       │\n",
      "╘═══════╧═════════════╛\n"
     ]
    }
   ],
   "source": [
    "df = pd.DataFrame(data1.age.describe())\n",
    "print( tabulate(df, tablefmt='fancy_grid', headers='keys', numalign=\"decimal\"))"
   ]
  },
  {
   "cell_type": "code",
   "execution_count": 27,
   "metadata": {},
   "outputs": [
    {
     "name": "stdout",
     "output_type": "stream",
     "text": [
      "╒════════╤═══════════╕\n",
      "│        │ marital   │\n",
      "╞════════╪═══════════╡\n",
      "│ count  │ 25130     │\n",
      "├────────┼───────────┤\n",
      "│ unique │ 3         │\n",
      "├────────┼───────────┤\n",
      "│ top    │ married   │\n",
      "├────────┼───────────┤\n",
      "│ freq   │ 15321     │\n",
      "╘════════╧═══════════╛\n"
     ]
    }
   ],
   "source": [
    "print( tabulate(pd.DataFrame(data1.marital.describe()), tablefmt='fancy_grid', headers='keys', numalign=\"decimal\"))"
   ]
  },
  {
   "cell_type": "code",
   "execution_count": 29,
   "metadata": {},
   "outputs": [
    {
     "name": "stdout",
     "output_type": "stream",
     "text": [
      "╒════════╤═════════════╕\n",
      "│        │ education   │\n",
      "╞════════╪═════════════╡\n",
      "│ count  │ 25130       │\n",
      "├────────┼─────────────┤\n",
      "│ unique │ 4           │\n",
      "├────────┼─────────────┤\n",
      "│ top    │ secondary   │\n",
      "├────────┼─────────────┤\n",
      "│ freq   │ 14038       │\n",
      "╘════════╧═════════════╛\n"
     ]
    }
   ],
   "source": [
    "print( tabulate(pd.DataFrame(data1.education.describe()), tablefmt='fancy_grid', headers='keys', numalign=\"decimal\"))"
   ]
  },
  {
   "cell_type": "code",
   "execution_count": 35,
   "metadata": {},
   "outputs": [
    {
     "name": "stdout",
     "output_type": "stream",
     "text": [
      "╒═══════╤═══════════╕\n",
      "│       │   balance │\n",
      "╞═══════╪═══════════╡\n",
      "│ count │  25130    │\n",
      "├───────┼───────────┤\n",
      "│ mean  │   1175.1  │\n",
      "├───────┼───────────┤\n",
      "│ std   │   2483.29 │\n",
      "├───────┼───────────┤\n",
      "│ min   │  -4057    │\n",
      "├───────┼───────────┤\n",
      "│ 25%   │     62    │\n",
      "├───────┼───────────┤\n",
      "│ 50%   │    412    │\n",
      "├───────┼───────────┤\n",
      "│ 75%   │   1257.75 │\n",
      "├───────┼───────────┤\n",
      "│ max   │  58544    │\n",
      "╘═══════╧═══════════╛\n"
     ]
    }
   ],
   "source": [
    "print( tabulate(pd.DataFrame(data1.balance.describe()), tablefmt='fancy_grid', headers='keys', numalign=\"decimal\"))"
   ]
  },
  {
   "cell_type": "code",
   "execution_count": 31,
   "metadata": {},
   "outputs": [
    {
     "name": "stdout",
     "output_type": "stream",
     "text": [
      "╒════════╤═══════╕\n",
      "│        │ y     │\n",
      "╞════════╪═══════╡\n",
      "│ count  │ 25130 │\n",
      "├────────┼───────┤\n",
      "│ unique │ 2     │\n",
      "├────────┼───────┤\n",
      "│ top    │ no    │\n",
      "├────────┼───────┤\n",
      "│ freq   │ 23195 │\n",
      "╘════════╧═══════╛\n"
     ]
    }
   ],
   "source": [
    "print( tabulate(pd.DataFrame(data1.y.describe()), tablefmt='fancy_grid', headers='keys', numalign=\"decimal\"))"
   ]
  },
  {
   "cell_type": "code",
   "execution_count": null,
   "metadata": {},
   "outputs": [],
   "source": []
  }
 ],
 "metadata": {
  "kernelspec": {
   "display_name": "Python [default]",
   "language": "python",
   "name": "python3"
  },
  "language_info": {
   "codemirror_mode": {
    "name": "ipython",
    "version": 3
   },
   "file_extension": ".py",
   "mimetype": "text/x-python",
   "name": "python",
   "nbconvert_exporter": "python",
   "pygments_lexer": "ipython3",
   "version": "3.6.6"
  }
 },
 "nbformat": 4,
 "nbformat_minor": 2
}
